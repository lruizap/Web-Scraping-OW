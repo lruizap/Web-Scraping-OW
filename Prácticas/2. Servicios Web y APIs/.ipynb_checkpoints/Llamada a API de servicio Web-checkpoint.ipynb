{
 "cells": [
  {
   "cell_type": "markdown",
   "id": "86d058e0",
   "metadata": {},
   "source": [
    "# Llamada a API de servicio Web"
   ]
  },
  {
   "cell_type": "markdown",
   "id": "8c8beed6",
   "metadata": {},
   "source": [
    "## AQ API"
   ]
  },
  {
   "cell_type": "code",
   "execution_count": 1,
   "id": "958f7633",
   "metadata": {},
   "outputs": [
    {
     "name": "stdout",
     "output_type": "stream",
     "text": [
      "Introduce las siglas del país (Ej: ES => ESPAÑA)ES\n",
      "https://api.openaq.org/v1/cities?country=ES\n"
     ]
    }
   ],
   "source": [
    "# Importamos las librerias necesarias\n",
    "\n",
    "import urllib.request\n",
    "import json\n",
    "\n",
    "url = 'https://api.openaq.org/v1/cities'\n",
    "pais = input('Introduce las siglas del país (Ej: ES => ESPAÑA)')\n",
    "\n",
    "# Tendremos que concatenar los datos introducidos con la url para que funciones\n",
    "urlValores= url+\"?country=\"+pais\n",
    "\n",
    "print(urlValores)"
   ]
  },
  {
   "cell_type": "code",
   "execution_count": 3,
   "id": "e2765dcb",
   "metadata": {},
   "outputs": [
    {
     "name": "stdout",
     "output_type": "stream",
     "text": [
      "{\"meta\":{\"name\":\"openaq-api\",\"license\":\"CC BY 4.0d\",\"website\":\"api.openaq.org\",\"page\":1,\"limit\":100,\"found\":60},\"results\":[{\"country\":\"ES\",\"name\":\"A Coruña\",\"city\":\"A Coruña\",\"count\":1720834,\"locations\":24},{\"country\":\"ES\",\"name\":\"Albacete\",\"city\":\"Albacete\",\"count\":278586,\"locations\":1},{\"country\":\"ES\",\"name\":\"Alicante/Alacant\",\"city\":\"Alicante/Alacant\",\"count\":1884444,\"locations\":10},{\"country\":\"ES\",\"name\":\"Almeria\",\"city\":\"Almeria\",\"count\":1091040,\"locations\":1},{\"country\":\"ES\",\"name\":\"Almería\",\"city\":\"Almería\",\"count\":2808745,\"locations\":14},{\"country\":\"ES\",\"name\":\"Araba/Álava\",\"city\":\"Araba/Álava\",\"count\":1145450,\"locations\":7},{\"country\":\"ES\",\"name\":\"Asturias\",\"city\":\"Asturias\",\"count\":5203670,\"locations\":23},{\"country\":\"ES\",\"name\":\"Ávila\",\"city\":\"Ávila\",\"count\":200670,\"locations\":1},{\"country\":\"ES\",\"name\":\"Badajoz\",\"city\":\"Badajoz\",\"count\":783527,\"locations\":4},{\"country\":\"ES\",\"name\":\"Barcelona\",\"city\":\"Barcelona\",\"count\":5464005,\"locations\":45},{\"country\":\"ES\",\"name\":\"Bizkaia\",\"city\":\"Bizkaia\",\"count\":1768757,\"locations\":13},{\"country\":\"ES\",\"name\":\"Burgos\",\"city\":\"Burgos\",\"count\":1016630,\"locations\":6},{\"country\":\"ES\",\"name\":\"Cáceres\",\"city\":\"Cáceres\",\"count\":612576,\"locations\":3},{\"country\":\"ES\",\"name\":\"Cádiz\",\"city\":\"Cádiz\",\"count\":5356774,\"locations\":24},{\"country\":\"ES\",\"name\":\"Cantabria\",\"city\":\"Cantabria\",\"count\":1688484,\"locations\":11},{\"country\":\"ES\",\"name\":\"Carboneras\",\"city\":\"Carboneras\",\"count\":105467,\"locations\":1},{\"country\":\"ES\",\"name\":\"Castellón/Castelló\",\"city\":\"Castellón/Castelló\",\"count\":3629884,\"locations\":19},{\"country\":\"ES\",\"name\":\"CCAA Catalu�a\",\"city\":\"CCAA Catalu�a\",\"count\":6621,\"locations\":1},{\"country\":\"ES\",\"name\":\"CCAA Com. Valenciana\",\"city\":\"CCAA Com. Valenciana\",\"count\":21517,\"locations\":2},{\"country\":\"ES\",\"name\":\"CCAA Galicia\",\"city\":\"CCAA Galicia\",\"count\":23487,\"locations\":1},{\"country\":\"ES\",\"name\":\"CCAA Pa�s Vasco\",\"city\":\"CCAA Pa�s Vasco\",\"count\":18812,\"locations\":2},{\"country\":\"ES\",\"name\":\"Ciudad Real\",\"city\":\"Ciudad Real\",\"count\":1018872,\"locations\":5},{\"country\":\"ES\",\"name\":\"Córdoba\",\"city\":\"Córdoba\",\"count\":1251861,\"locations\":6},{\"country\":\"ES\",\"name\":\"Cuenca\",\"city\":\"Cuenca\",\"count\":207772,\"locations\":1},{\"country\":\"ES\",\"name\":\"Gipuzkoa\",\"city\":\"Gipuzkoa\",\"count\":989648,\"locations\":7},{\"country\":\"ES\",\"name\":\"Girona\",\"city\":\"Girona\",\"count\":577031,\"locations\":6},{\"country\":\"ES\",\"name\":\"Granada\",\"city\":\"Granada\",\"count\":1283296,\"locations\":5},{\"country\":\"ES\",\"name\":\"Guadalajara\",\"city\":\"Guadalajara\",\"count\":546068,\"locations\":3},{\"country\":\"ES\",\"name\":\"Huelva\",\"city\":\"Huelva\",\"count\":3406355,\"locations\":17},{\"country\":\"ES\",\"name\":\"Huesca\",\"city\":\"Huesca\",\"count\":410035,\"locations\":3},{\"country\":\"ES\",\"name\":\"Illes Balears\",\"city\":\"Illes Balears\",\"count\":2725280,\"locations\":18},{\"country\":\"ES\",\"name\":\"Jaén\",\"city\":\"Jaén\",\"count\":992253,\"locations\":4},{\"country\":\"ES\",\"name\":\"La Rioja\",\"city\":\"La Rioja\",\"count\":1112752,\"locations\":5},{\"country\":\"ES\",\"name\":\"Las Palmas\",\"city\":\"Las Palmas\",\"count\":2537082,\"locations\":20},{\"country\":\"ES\",\"name\":\"León\",\"city\":\"León\",\"count\":923564,\"locations\":9},{\"country\":\"ES\",\"name\":\"Lleida\",\"city\":\"Lleida\",\"count\":881717,\"locations\":7},{\"country\":\"ES\",\"name\":\"Lugo\",\"city\":\"Lugo\",\"count\":670362,\"locations\":9},{\"country\":\"ES\",\"name\":\"Madrid\",\"city\":\"Madrid\",\"count\":8007508,\"locations\":47},{\"country\":\"ES\",\"name\":\"Malaga\",\"city\":\"Malaga\",\"count\":23642,\"locations\":1},{\"country\":\"ES\",\"name\":\"Málaga\",\"city\":\"Málaga\",\"count\":1183663,\"locations\":6},{\"country\":\"ES\",\"name\":\"Marbella\",\"city\":\"Marbella\",\"count\":98033,\"locations\":1},{\"country\":\"ES\",\"name\":\"Murcia\",\"city\":\"Murcia\",\"count\":1918074,\"locations\":9},{\"country\":\"ES\",\"name\":\"Navarra\",\"city\":\"Navarra\",\"count\":1704414,\"locations\":8},{\"country\":\"ES\",\"name\":\"Niebla\",\"city\":\"Niebla\",\"count\":92750,\"locations\":1},{\"country\":\"ES\",\"name\":\"Ourense\",\"city\":\"Ourense\",\"count\":640600,\"locations\":2},{\"country\":\"ES\",\"name\":\"Palencia\",\"city\":\"Palencia\",\"count\":418249,\"locations\":6},{\"country\":\"ES\",\"name\":\"Pontevedra\",\"city\":\"Pontevedra\",\"count\":1177884,\"locations\":8},{\"country\":\"ES\",\"name\":\"Salamanca\",\"city\":\"Salamanca\",\"count\":715652,\"locations\":4},{\"country\":\"ES\",\"name\":\"Santa Cruz de Tenerife\",\"city\":\"Santa Cruz de Tenerife\",\"count\":3747901,\"locations\":30},{\"country\":\"ES\",\"name\":\"Segovia\",\"city\":\"Segovia\",\"count\":209914,\"locations\":1},{\"country\":\"ES\",\"name\":\"Sevilla\",\"city\":\"Sevilla\",\"count\":2918167,\"locations\":12},{\"country\":\"ES\",\"name\":\"Soria\",\"city\":\"Soria\",\"count\":384659,\"locations\":2},{\"country\":\"ES\",\"name\":\"Tarragona\",\"city\":\"Tarragona\",\"count\":1720546,\"locations\":18},{\"country\":\"ES\",\"name\":\"Teruel\",\"city\":\"Teruel\",\"count\":197684,\"locations\":4},{\"country\":\"ES\",\"name\":\"Toledo\",\"city\":\"Toledo\",\"count\":825285,\"locations\":4},{\"country\":\"ES\",\"name\":\"Valencia/València\",\"city\":\"Valencia/València\",\"count\":5009021,\"locations\":25},{\"country\":\"ES\",\"name\":\"Valladolid\",\"city\":\"Valladolid\",\"count\":931437,\"locations\":9},{\"country\":\"ES\",\"name\":\"Villanueva Del Arzobispo\",\"city\":\"Villanueva Del Arzobispo\",\"count\":54610,\"locations\":1},{\"country\":\"ES\",\"name\":\"Zamora\",\"city\":\"Zamora\",\"count\":206490,\"locations\":1},{\"country\":\"ES\",\"name\":\"Zaragoza\",\"city\":\"Zaragoza\",\"count\":1954196,\"locations\":10}]}\n"
     ]
    }
   ],
   "source": [
    "datos = urllib.request.urlopen(urlValores).read().decode()\n",
    "\n",
    "print(datos)"
   ]
  },
  {
   "cell_type": "code",
   "execution_count": 4,
   "id": "e14135a0",
   "metadata": {},
   "outputs": [
    {
     "name": "stdout",
     "output_type": "stream",
     "text": [
      "{'meta': {'name': 'openaq-api', 'license': 'CC BY 4.0d', 'website': 'api.openaq.org', 'page': 1, 'limit': 100, 'found': 60}, 'results': [{'country': 'ES', 'name': 'A Coruña', 'city': 'A Coruña', 'count': 1720834, 'locations': 24}, {'country': 'ES', 'name': 'Albacete', 'city': 'Albacete', 'count': 278586, 'locations': 1}, {'country': 'ES', 'name': 'Alicante/Alacant', 'city': 'Alicante/Alacant', 'count': 1884444, 'locations': 10}, {'country': 'ES', 'name': 'Almeria', 'city': 'Almeria', 'count': 1091040, 'locations': 1}, {'country': 'ES', 'name': 'Almería', 'city': 'Almería', 'count': 2808745, 'locations': 14}, {'country': 'ES', 'name': 'Araba/Álava', 'city': 'Araba/Álava', 'count': 1145450, 'locations': 7}, {'country': 'ES', 'name': 'Asturias', 'city': 'Asturias', 'count': 5203670, 'locations': 23}, {'country': 'ES', 'name': 'Ávila', 'city': 'Ávila', 'count': 200670, 'locations': 1}, {'country': 'ES', 'name': 'Badajoz', 'city': 'Badajoz', 'count': 783527, 'locations': 4}, {'country': 'ES', 'name': 'Barcelona', 'city': 'Barcelona', 'count': 5464005, 'locations': 45}, {'country': 'ES', 'name': 'Bizkaia', 'city': 'Bizkaia', 'count': 1768757, 'locations': 13}, {'country': 'ES', 'name': 'Burgos', 'city': 'Burgos', 'count': 1016630, 'locations': 6}, {'country': 'ES', 'name': 'Cáceres', 'city': 'Cáceres', 'count': 612576, 'locations': 3}, {'country': 'ES', 'name': 'Cádiz', 'city': 'Cádiz', 'count': 5356774, 'locations': 24}, {'country': 'ES', 'name': 'Cantabria', 'city': 'Cantabria', 'count': 1688484, 'locations': 11}, {'country': 'ES', 'name': 'Carboneras', 'city': 'Carboneras', 'count': 105467, 'locations': 1}, {'country': 'ES', 'name': 'Castellón/Castelló', 'city': 'Castellón/Castelló', 'count': 3629884, 'locations': 19}, {'country': 'ES', 'name': 'CCAA Catalu�a', 'city': 'CCAA Catalu�a', 'count': 6621, 'locations': 1}, {'country': 'ES', 'name': 'CCAA Com. Valenciana', 'city': 'CCAA Com. Valenciana', 'count': 21517, 'locations': 2}, {'country': 'ES', 'name': 'CCAA Galicia', 'city': 'CCAA Galicia', 'count': 23487, 'locations': 1}, {'country': 'ES', 'name': 'CCAA Pa�s Vasco', 'city': 'CCAA Pa�s Vasco', 'count': 18812, 'locations': 2}, {'country': 'ES', 'name': 'Ciudad Real', 'city': 'Ciudad Real', 'count': 1018872, 'locations': 5}, {'country': 'ES', 'name': 'Córdoba', 'city': 'Córdoba', 'count': 1251861, 'locations': 6}, {'country': 'ES', 'name': 'Cuenca', 'city': 'Cuenca', 'count': 207772, 'locations': 1}, {'country': 'ES', 'name': 'Gipuzkoa', 'city': 'Gipuzkoa', 'count': 989648, 'locations': 7}, {'country': 'ES', 'name': 'Girona', 'city': 'Girona', 'count': 577031, 'locations': 6}, {'country': 'ES', 'name': 'Granada', 'city': 'Granada', 'count': 1283296, 'locations': 5}, {'country': 'ES', 'name': 'Guadalajara', 'city': 'Guadalajara', 'count': 546068, 'locations': 3}, {'country': 'ES', 'name': 'Huelva', 'city': 'Huelva', 'count': 3406355, 'locations': 17}, {'country': 'ES', 'name': 'Huesca', 'city': 'Huesca', 'count': 410035, 'locations': 3}, {'country': 'ES', 'name': 'Illes Balears', 'city': 'Illes Balears', 'count': 2725280, 'locations': 18}, {'country': 'ES', 'name': 'Jaén', 'city': 'Jaén', 'count': 992253, 'locations': 4}, {'country': 'ES', 'name': 'La Rioja', 'city': 'La Rioja', 'count': 1112752, 'locations': 5}, {'country': 'ES', 'name': 'Las Palmas', 'city': 'Las Palmas', 'count': 2537082, 'locations': 20}, {'country': 'ES', 'name': 'León', 'city': 'León', 'count': 923564, 'locations': 9}, {'country': 'ES', 'name': 'Lleida', 'city': 'Lleida', 'count': 881717, 'locations': 7}, {'country': 'ES', 'name': 'Lugo', 'city': 'Lugo', 'count': 670362, 'locations': 9}, {'country': 'ES', 'name': 'Madrid', 'city': 'Madrid', 'count': 8007508, 'locations': 47}, {'country': 'ES', 'name': 'Malaga', 'city': 'Malaga', 'count': 23642, 'locations': 1}, {'country': 'ES', 'name': 'Málaga', 'city': 'Málaga', 'count': 1183663, 'locations': 6}, {'country': 'ES', 'name': 'Marbella', 'city': 'Marbella', 'count': 98033, 'locations': 1}, {'country': 'ES', 'name': 'Murcia', 'city': 'Murcia', 'count': 1918074, 'locations': 9}, {'country': 'ES', 'name': 'Navarra', 'city': 'Navarra', 'count': 1704414, 'locations': 8}, {'country': 'ES', 'name': 'Niebla', 'city': 'Niebla', 'count': 92750, 'locations': 1}, {'country': 'ES', 'name': 'Ourense', 'city': 'Ourense', 'count': 640600, 'locations': 2}, {'country': 'ES', 'name': 'Palencia', 'city': 'Palencia', 'count': 418249, 'locations': 6}, {'country': 'ES', 'name': 'Pontevedra', 'city': 'Pontevedra', 'count': 1177884, 'locations': 8}, {'country': 'ES', 'name': 'Salamanca', 'city': 'Salamanca', 'count': 715652, 'locations': 4}, {'country': 'ES', 'name': 'Santa Cruz de Tenerife', 'city': 'Santa Cruz de Tenerife', 'count': 3747901, 'locations': 30}, {'country': 'ES', 'name': 'Segovia', 'city': 'Segovia', 'count': 209914, 'locations': 1}, {'country': 'ES', 'name': 'Sevilla', 'city': 'Sevilla', 'count': 2918167, 'locations': 12}, {'country': 'ES', 'name': 'Soria', 'city': 'Soria', 'count': 384659, 'locations': 2}, {'country': 'ES', 'name': 'Tarragona', 'city': 'Tarragona', 'count': 1720546, 'locations': 18}, {'country': 'ES', 'name': 'Teruel', 'city': 'Teruel', 'count': 197684, 'locations': 4}, {'country': 'ES', 'name': 'Toledo', 'city': 'Toledo', 'count': 825285, 'locations': 4}, {'country': 'ES', 'name': 'Valencia/València', 'city': 'Valencia/València', 'count': 5009021, 'locations': 25}, {'country': 'ES', 'name': 'Valladolid', 'city': 'Valladolid', 'count': 931437, 'locations': 9}, {'country': 'ES', 'name': 'Villanueva Del Arzobispo', 'city': 'Villanueva Del Arzobispo', 'count': 54610, 'locations': 1}, {'country': 'ES', 'name': 'Zamora', 'city': 'Zamora', 'count': 206490, 'locations': 1}, {'country': 'ES', 'name': 'Zaragoza', 'city': 'Zaragoza', 'count': 1954196, 'locations': 10}]}\n"
     ]
    }
   ],
   "source": [
    "# Ahora accederemos a los datos del JSON\n",
    "\n",
    "js = json.loads(datos)\n",
    "print(js)"
   ]
  },
  {
   "cell_type": "code",
   "execution_count": 12,
   "id": "07a7fc6c",
   "metadata": {},
   "outputs": [
    {
     "name": "stdout",
     "output_type": "stream",
     "text": [
      "A Coruña\n",
      "Albacete\n",
      "Alicante/Alacant\n",
      "Almeria\n",
      "Almería\n",
      "Araba/Álava\n",
      "Asturias\n",
      "Ávila\n",
      "Badajoz\n",
      "Barcelona\n",
      "Bizkaia\n",
      "Burgos\n",
      "Cáceres\n",
      "Cádiz\n",
      "Cantabria\n",
      "Carboneras\n",
      "Castellón/Castelló\n",
      "CCAA Catalu�a\n",
      "CCAA Com. Valenciana\n",
      "CCAA Galicia\n",
      "CCAA Pa�s Vasco\n",
      "Ciudad Real\n",
      "Córdoba\n",
      "Cuenca\n",
      "Gipuzkoa\n",
      "Girona\n",
      "Granada\n",
      "Guadalajara\n",
      "Huelva\n",
      "Huesca\n",
      "Illes Balears\n",
      "Jaén\n",
      "La Rioja\n",
      "Las Palmas\n",
      "León\n",
      "Lleida\n",
      "Lugo\n",
      "Madrid\n",
      "Malaga\n",
      "Málaga\n",
      "Marbella\n",
      "Murcia\n",
      "Navarra\n",
      "Niebla\n",
      "Ourense\n",
      "Palencia\n",
      "Pontevedra\n",
      "Salamanca\n",
      "Santa Cruz de Tenerife\n",
      "Segovia\n"
     ]
    }
   ],
   "source": [
    "# Ahora recorreremos el diccionario creado\n",
    "\n",
    "for k in range(50):\n",
    "    city =  js['results'][k]['city']\n",
    "    print(city)"
   ]
  },
  {
   "cell_type": "code",
   "execution_count": 13,
   "id": "674c4dc3",
   "metadata": {},
   "outputs": [
    {
     "name": "stdout",
     "output_type": "stream",
     "text": [
      "Introduzca el nombre de una ciudadMadrid\n"
     ]
    },
    {
     "ename": "NameError",
     "evalue": "name 'url4' is not defined",
     "output_type": "error",
     "traceback": [
      "\u001b[1;31m---------------------------------------------------------------------------\u001b[0m",
      "\u001b[1;31mNameError\u001b[0m                                 Traceback (most recent call last)",
      "\u001b[1;32m~\\AppData\\Local\\Temp\\ipykernel_9636\\3889704364.py\u001b[0m in \u001b[0;36m<module>\u001b[1;34m\u001b[0m\n\u001b[0;32m      2\u001b[0m \u001b[1;33m\u001b[0m\u001b[0m\n\u001b[0;32m      3\u001b[0m \u001b[0murl3\u001b[0m \u001b[1;33m=\u001b[0m \u001b[1;34m'https://api.openaq.org/v1/latest'\u001b[0m\u001b[1;33m\u001b[0m\u001b[1;33m\u001b[0m\u001b[0m\n\u001b[1;32m----> 4\u001b[1;33m \u001b[0murl4\u001b[0m \u001b[1;33m=\u001b[0m \u001b[0murl4\u001b[0m \u001b[1;33m+\u001b[0m \u001b[1;34m'?limit=1&city='\u001b[0m\u001b[1;33m+\u001b[0m\u001b[0mciudad\u001b[0m\u001b[1;33m\u001b[0m\u001b[1;33m\u001b[0m\u001b[0m\n\u001b[0m\u001b[0;32m      5\u001b[0m \u001b[1;33m\u001b[0m\u001b[0m\n\u001b[0;32m      6\u001b[0m \u001b[0mdata\u001b[0m \u001b[1;33m=\u001b[0m \u001b[0murllib\u001b[0m\u001b[1;33m.\u001b[0m\u001b[0mrequest\u001b[0m\u001b[1;33m.\u001b[0m\u001b[0murlopen\u001b[0m\u001b[1;33m(\u001b[0m\u001b[0murl4\u001b[0m\u001b[1;33m)\u001b[0m\u001b[1;33m.\u001b[0m\u001b[0mread\u001b[0m\u001b[1;33m(\u001b[0m\u001b[1;33m)\u001b[0m\u001b[1;33m.\u001b[0m\u001b[0mdecode\u001b[0m\u001b[1;33m(\u001b[0m\u001b[1;33m)\u001b[0m\u001b[1;33m\u001b[0m\u001b[1;33m\u001b[0m\u001b[0m\n",
      "\u001b[1;31mNameError\u001b[0m: name 'url4' is not defined"
     ]
    }
   ],
   "source": [
    "ciudad = input('Introduzca el nombre de una ciudad ')\n",
    "\n",
    "url3 = 'https://api.openaq.org/v1/latest'\n",
    "url4 = url4 + '?limit=1&city='+ciudad\n",
    "\n",
    "data = urllib.request.urlopen(url4).read().decode()"
   ]
  },
  {
   "cell_type": "code",
   "execution_count": null,
   "id": "60baa842",
   "metadata": {},
   "outputs": [],
   "source": []
  }
 ],
 "metadata": {
  "kernelspec": {
   "display_name": "Python 3 (ipykernel)",
   "language": "python",
   "name": "python3"
  },
  "language_info": {
   "codemirror_mode": {
    "name": "ipython",
    "version": 3
   },
   "file_extension": ".py",
   "mimetype": "text/x-python",
   "name": "python",
   "nbconvert_exporter": "python",
   "pygments_lexer": "ipython3",
   "version": "3.9.13"
  }
 },
 "nbformat": 4,
 "nbformat_minor": 5
}
