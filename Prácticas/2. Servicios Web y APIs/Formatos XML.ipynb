{
 "cells": [
  {
   "cell_type": "markdown",
   "id": "8a4cb9f6",
   "metadata": {},
   "source": [
    "# Formatos XML Y JSON"
   ]
  },
  {
   "cell_type": "markdown",
   "id": "171228d0",
   "metadata": {},
   "source": [
    "Vamos a leer el archivo XML de la web https://www.w3schools.com/xml/cd_catalog.xml y parsearlo con la librería `ElementTree`"
   ]
  },
  {
   "cell_type": "code",
   "execution_count": 7,
   "id": "36234f9c",
   "metadata": {},
   "outputs": [],
   "source": [
    "# Importamos las librerías necesarias:\n",
    "\n",
    "# Al estar el documento en el navegador tendremos que acceder a él\n",
    "import urllib.request \n",
    "\n",
    "# Uso \"as\" para introducirle una alias a la función\n",
    "import xml.etree.ElementTree as ET\n",
    "\n",
    "url = 'https://www.w3schools.com/xml/cd_catalog.xml'\n",
    "\n",
    "# Con esto leemos los datos de la url\n",
    "data = urllib.request.urlopen(url).read()\n",
    "\n",
    "# Ahora tendremos que transformarlo a un objeto que entienda python\n",
    "tree = ET.fromstring(data.decode())\n",
    "\n",
    "lst = tree.findall('CD')"
   ]
  },
  {
   "cell_type": "code",
   "execution_count": 4,
   "id": "f0310d15",
   "metadata": {},
   "outputs": [
    {
     "data": {
      "text/plain": [
       "b'<?xml version=\"1.0\" encoding=\"UTF-8\"?>\\n<CATALOG>\\n  <CD>\\n    <TITLE>Empire Burlesque</TITLE>\\n    <ARTIST>Bob Dylan</ARTIST>\\n    <COUNTRY>USA</COUNTRY>\\n    <COMPANY>Columbia</COMPANY>\\n    <PRICE>10.90</PRICE>\\n    <YEAR>1985</YEAR>\\n  </CD>\\n  <CD>\\n    <TITLE>Hide your heart</TITLE>\\n    <ARTIST>Bonnie Tyler</ARTIST>\\n    <COUNTRY>UK</COUNTRY>\\n    <COMPANY>CBS Records</COMPANY>\\n    <PRICE>9.90</PRICE>\\n    <YEAR>1988</YEAR>\\n  </CD>\\n  <CD>\\n    <TITLE>Greatest Hits</TITLE>\\n    <ARTIST>Dolly Parton</ARTIST>\\n    <COUNTRY>USA</COUNTRY>\\n    <COMPANY>RCA</COMPANY>\\n    <PRICE>9.90</PRICE>\\n    <YEAR>1982</YEAR>\\n  </CD>\\n  <CD>\\n    <TITLE>Still got the blues</TITLE>\\n    <ARTIST>Gary Moore</ARTIST>\\n    <COUNTRY>UK</COUNTRY>\\n    <COMPANY>Virgin records</COMPANY>\\n    <PRICE>10.20</PRICE>\\n    <YEAR>1990</YEAR>\\n  </CD>\\n  <CD>\\n    <TITLE>Eros</TITLE>\\n    <ARTIST>Eros Ramazzotti</ARTIST>\\n    <COUNTRY>EU</COUNTRY>\\n    <COMPANY>BMG</COMPANY>\\n    <PRICE>9.90</PRICE>\\n    <YEAR>1997</YEAR>\\n  </CD>\\n  <CD>\\n    <TITLE>One night only</TITLE>\\n    <ARTIST>Bee Gees</ARTIST>\\n    <COUNTRY>UK</COUNTRY>\\n    <COMPANY>Polydor</COMPANY>\\n    <PRICE>10.90</PRICE>\\n    <YEAR>1998</YEAR>\\n  </CD>\\n  <CD>\\n    <TITLE>Sylvias Mother</TITLE>\\n    <ARTIST>Dr.Hook</ARTIST>\\n    <COUNTRY>UK</COUNTRY>\\n    <COMPANY>CBS</COMPANY>\\n    <PRICE>8.10</PRICE>\\n    <YEAR>1973</YEAR>\\n  </CD>\\n  <CD>\\n    <TITLE>Maggie May</TITLE>\\n    <ARTIST>Rod Stewart</ARTIST>\\n    <COUNTRY>UK</COUNTRY>\\n    <COMPANY>Pickwick</COMPANY>\\n    <PRICE>8.50</PRICE>\\n    <YEAR>1990</YEAR>\\n  </CD>\\n  <CD>\\n    <TITLE>Romanza</TITLE>\\n    <ARTIST>Andrea Bocelli</ARTIST>\\n    <COUNTRY>EU</COUNTRY>\\n    <COMPANY>Polydor</COMPANY>\\n    <PRICE>10.80</PRICE>\\n    <YEAR>1996</YEAR>\\n  </CD>\\n  <CD>\\n    <TITLE>When a man loves a woman</TITLE>\\n    <ARTIST>Percy Sledge</ARTIST>\\n    <COUNTRY>USA</COUNTRY>\\n    <COMPANY>Atlantic</COMPANY>\\n    <PRICE>8.70</PRICE>\\n    <YEAR>1987</YEAR>\\n  </CD>\\n  <CD>\\n    <TITLE>Black angel</TITLE>\\n    <ARTIST>Savage Rose</ARTIST>\\n    <COUNTRY>EU</COUNTRY>\\n    <COMPANY>Mega</COMPANY>\\n    <PRICE>10.90</PRICE>\\n    <YEAR>1995</YEAR>\\n  </CD>\\n  <CD>\\n    <TITLE>1999 Grammy Nominees</TITLE>\\n    <ARTIST>Many</ARTIST>\\n    <COUNTRY>USA</COUNTRY>\\n    <COMPANY>Grammy</COMPANY>\\n    <PRICE>10.20</PRICE>\\n    <YEAR>1999</YEAR>\\n  </CD>\\n  <CD>\\n    <TITLE>For the good times</TITLE>\\n    <ARTIST>Kenny Rogers</ARTIST>\\n    <COUNTRY>UK</COUNTRY>\\n    <COMPANY>Mucik Master</COMPANY>\\n    <PRICE>8.70</PRICE>\\n    <YEAR>1995</YEAR>\\n  </CD>\\n  <CD>\\n    <TITLE>Big Willie style</TITLE>\\n    <ARTIST>Will Smith</ARTIST>\\n    <COUNTRY>USA</COUNTRY>\\n    <COMPANY>Columbia</COMPANY>\\n    <PRICE>9.90</PRICE>\\n    <YEAR>1997</YEAR>\\n  </CD>\\n  <CD>\\n    <TITLE>Tupelo Honey</TITLE>\\n    <ARTIST>Van Morrison</ARTIST>\\n    <COUNTRY>UK</COUNTRY>\\n    <COMPANY>Polydor</COMPANY>\\n    <PRICE>8.20</PRICE>\\n    <YEAR>1971</YEAR>\\n  </CD>\\n  <CD>\\n    <TITLE>Soulsville</TITLE>\\n    <ARTIST>Jorn Hoel</ARTIST>\\n    <COUNTRY>Norway</COUNTRY>\\n    <COMPANY>WEA</COMPANY>\\n    <PRICE>7.90</PRICE>\\n    <YEAR>1996</YEAR>\\n  </CD>\\n  <CD>\\n    <TITLE>The very best of</TITLE>\\n    <ARTIST>Cat Stevens</ARTIST>\\n    <COUNTRY>UK</COUNTRY>\\n    <COMPANY>Island</COMPANY>\\n    <PRICE>8.90</PRICE>\\n    <YEAR>1990</YEAR>\\n  </CD>\\n  <CD>\\n    <TITLE>Stop</TITLE>\\n    <ARTIST>Sam Brown</ARTIST>\\n    <COUNTRY>UK</COUNTRY>\\n    <COMPANY>A and M</COMPANY>\\n    <PRICE>8.90</PRICE>\\n    <YEAR>1988</YEAR>\\n  </CD>\\n  <CD>\\n    <TITLE>Bridge of Spies</TITLE>\\n    <ARTIST>T\\'Pau</ARTIST>\\n    <COUNTRY>UK</COUNTRY>\\n    <COMPANY>Siren</COMPANY>\\n    <PRICE>7.90</PRICE>\\n    <YEAR>1987</YEAR>\\n  </CD>\\n  <CD>\\n    <TITLE>Private Dancer</TITLE>\\n    <ARTIST>Tina Turner</ARTIST>\\n    <COUNTRY>UK</COUNTRY>\\n    <COMPANY>Capitol</COMPANY>\\n    <PRICE>8.90</PRICE>\\n    <YEAR>1983</YEAR>\\n  </CD>\\n  <CD>\\n    <TITLE>Midt om natten</TITLE>\\n    <ARTIST>Kim Larsen</ARTIST>\\n    <COUNTRY>EU</COUNTRY>\\n    <COMPANY>Medley</COMPANY>\\n    <PRICE>7.80</PRICE>\\n    <YEAR>1983</YEAR>\\n  </CD>\\n  <CD>\\n    <TITLE>Pavarotti Gala Concert</TITLE>\\n    <ARTIST>Luciano Pavarotti</ARTIST>\\n    <COUNTRY>UK</COUNTRY>\\n    <COMPANY>DECCA</COMPANY>\\n    <PRICE>9.90</PRICE>\\n    <YEAR>1991</YEAR>\\n  </CD>\\n  <CD>\\n    <TITLE>The dock of the bay</TITLE>\\n    <ARTIST>Otis Redding</ARTIST>\\n    <COUNTRY>USA</COUNTRY>\\n    <COMPANY>Stax Records</COMPANY>\\n    <PRICE>7.90</PRICE>\\n    <YEAR>1968</YEAR>\\n  </CD>\\n  <CD>\\n    <TITLE>Picture book</TITLE>\\n    <ARTIST>Simply Red</ARTIST>\\n    <COUNTRY>EU</COUNTRY>\\n    <COMPANY>Elektra</COMPANY>\\n    <PRICE>7.20</PRICE>\\n    <YEAR>1985</YEAR>\\n  </CD>\\n  <CD>\\n    <TITLE>Red</TITLE>\\n    <ARTIST>The Communards</ARTIST>\\n    <COUNTRY>UK</COUNTRY>\\n    <COMPANY>London</COMPANY>\\n    <PRICE>7.80</PRICE>\\n    <YEAR>1987</YEAR>\\n  </CD>\\n  <CD>\\n    <TITLE>Unchain my heart</TITLE>\\n    <ARTIST>Joe Cocker</ARTIST>\\n    <COUNTRY>USA</COUNTRY>\\n    <COMPANY>EMI</COMPANY>\\n    <PRICE>8.20</PRICE>\\n    <YEAR>1987</YEAR>\\n  </CD>\\n</CATALOG>\\n'"
      ]
     },
     "execution_count": 4,
     "metadata": {},
     "output_type": "execute_result"
    }
   ],
   "source": [
    "# Al leer \"data\" antes de decodificarlo nos damos cuenta que está codificado\n",
    "# por la \"b\" del comienzo de la lectura. Esto se refiere a bytes\n",
    "data"
   ]
  },
  {
   "cell_type": "code",
   "execution_count": 8,
   "id": "2503ccfd",
   "metadata": {},
   "outputs": [
    {
     "data": {
      "text/plain": [
       "[<Element 'CD' at 0x0000023FBC240680>,\n",
       " <Element 'CD' at 0x0000023FBC240F40>,\n",
       " <Element 'CD' at 0x0000023FBC240BD0>,\n",
       " <Element 'CD' at 0x0000023FBC2408B0>,\n",
       " <Element 'CD' at 0x0000023FBC240950>,\n",
       " <Element 'CD' at 0x0000023FBC235130>,\n",
       " <Element 'CD' at 0x0000023FBC235360>,\n",
       " <Element 'CD' at 0x0000023FBC235590>,\n",
       " <Element 'CD' at 0x0000023FBC2357C0>,\n",
       " <Element 'CD' at 0x0000023FBC2359F0>,\n",
       " <Element 'CD' at 0x0000023FBC235C70>,\n",
       " <Element 'CD' at 0x0000023FBC235EA0>,\n",
       " <Element 'CD' at 0x0000023FBC243180>,\n",
       " <Element 'CD' at 0x0000023FBC243400>,\n",
       " <Element 'CD' at 0x0000023FBC243680>,\n",
       " <Element 'CD' at 0x0000023FBC2438B0>,\n",
       " <Element 'CD' at 0x0000023FBC243AE0>,\n",
       " <Element 'CD' at 0x0000023FBC243D60>,\n",
       " <Element 'CD' at 0x0000023FBC243F90>,\n",
       " <Element 'CD' at 0x0000023FBC242310>,\n",
       " <Element 'CD' at 0x0000023FBC2421D0>,\n",
       " <Element 'CD' at 0x0000023FBC2426D0>,\n",
       " <Element 'CD' at 0x0000023FBB717310>,\n",
       " <Element 'CD' at 0x0000023FBC242B30>,\n",
       " <Element 'CD' at 0x0000023FBC242F40>,\n",
       " <Element 'CD' at 0x0000023FBC242040>]"
      ]
     },
     "execution_count": 8,
     "metadata": {},
     "output_type": "execute_result"
    }
   ],
   "source": [
    "lst"
   ]
  },
  {
   "cell_type": "code",
   "execution_count": 10,
   "id": "b271b7f0",
   "metadata": {},
   "outputs": [
    {
     "name": "stdout",
     "output_type": "stream",
     "text": [
      "Número de CDs en el catálogo 26\n",
      "\r\n",
      "Título:  Empire Burlesque\n",
      "Artista:  Bob Dylan\n",
      "Precio:  10.90\n",
      "\r\n",
      "Título:  Hide your heart\n",
      "Artista:  Bonnie Tyler\n",
      "Precio:  9.90\n",
      "\r\n",
      "Título:  Greatest Hits\n",
      "Artista:  Dolly Parton\n",
      "Precio:  9.90\n",
      "\r\n",
      "Título:  Still got the blues\n",
      "Artista:  Gary Moore\n",
      "Precio:  10.20\n",
      "\r\n",
      "Título:  Eros\n",
      "Artista:  Eros Ramazzotti\n",
      "Precio:  9.90\n",
      "\r\n",
      "Título:  One night only\n",
      "Artista:  Bee Gees\n",
      "Precio:  10.90\n",
      "\r\n",
      "Título:  Sylvias Mother\n",
      "Artista:  Dr.Hook\n",
      "Precio:  8.10\n",
      "\r\n",
      "Título:  Maggie May\n",
      "Artista:  Rod Stewart\n",
      "Precio:  8.50\n",
      "\r\n",
      "Título:  Romanza\n",
      "Artista:  Andrea Bocelli\n",
      "Precio:  10.80\n",
      "\r\n",
      "Título:  When a man loves a woman\n",
      "Artista:  Percy Sledge\n",
      "Precio:  8.70\n",
      "\r\n",
      "Título:  Black angel\n",
      "Artista:  Savage Rose\n",
      "Precio:  10.90\n",
      "\r\n",
      "Título:  1999 Grammy Nominees\n",
      "Artista:  Many\n",
      "Precio:  10.20\n",
      "\r\n",
      "Título:  For the good times\n",
      "Artista:  Kenny Rogers\n",
      "Precio:  8.70\n",
      "\r\n",
      "Título:  Big Willie style\n",
      "Artista:  Will Smith\n",
      "Precio:  9.90\n",
      "\r\n",
      "Título:  Tupelo Honey\n",
      "Artista:  Van Morrison\n",
      "Precio:  8.20\n",
      "\r\n",
      "Título:  Soulsville\n",
      "Artista:  Jorn Hoel\n",
      "Precio:  7.90\n",
      "\r\n",
      "Título:  The very best of\n",
      "Artista:  Cat Stevens\n",
      "Precio:  8.90\n",
      "\r\n",
      "Título:  Stop\n",
      "Artista:  Sam Brown\n",
      "Precio:  8.90\n",
      "\r\n",
      "Título:  Bridge of Spies\n",
      "Artista:  T'Pau\n",
      "Precio:  7.90\n",
      "\r\n",
      "Título:  Private Dancer\n",
      "Artista:  Tina Turner\n",
      "Precio:  8.90\n",
      "\r\n",
      "Título:  Midt om natten\n",
      "Artista:  Kim Larsen\n",
      "Precio:  7.80\n",
      "\r\n",
      "Título:  Pavarotti Gala Concert\n",
      "Artista:  Luciano Pavarotti\n",
      "Precio:  9.90\n",
      "\r\n",
      "Título:  The dock of the bay\n",
      "Artista:  Otis Redding\n",
      "Precio:  7.90\n",
      "\r\n",
      "Título:  Picture book\n",
      "Artista:  Simply Red\n",
      "Precio:  7.20\n",
      "\r\n",
      "Título:  Red\n",
      "Artista:  The Communards\n",
      "Precio:  7.80\n",
      "\r\n",
      "Título:  Unchain my heart\n",
      "Artista:  Joe Cocker\n",
      "Precio:  8.20\n"
     ]
    }
   ],
   "source": [
    "print('Número de CDs en el catálogo', len(lst))\n",
    "\n",
    "for item in lst:\n",
    "    print(\"\\r\")\n",
    "    print('Título: ', item.find('TITLE').text)\n",
    "    print('Artista: ', item.find('ARTIST').text)\n",
    "    print('Precio: ', item.find('PRICE').text)"
   ]
  },
  {
   "cell_type": "code",
   "execution_count": null,
   "id": "71b58ada",
   "metadata": {},
   "outputs": [],
   "source": []
  }
 ],
 "metadata": {
  "kernelspec": {
   "display_name": "Python 3 (ipykernel)",
   "language": "python",
   "name": "python3"
  },
  "language_info": {
   "codemirror_mode": {
    "name": "ipython",
    "version": 3
   },
   "file_extension": ".py",
   "mimetype": "text/x-python",
   "name": "python",
   "nbconvert_exporter": "python",
   "pygments_lexer": "ipython3",
   "version": "3.9.13"
  }
 },
 "nbformat": 4,
 "nbformat_minor": 5
}
