{
 "cells": [
  {
   "cell_type": "markdown",
   "id": "f3c1deab",
   "metadata": {},
   "source": [
    "# Extraemos valor de un fondo de inversión"
   ]
  },
  {
   "cell_type": "code",
   "execution_count": 13,
   "id": "bbc4674f",
   "metadata": {},
   "outputs": [],
   "source": [
    "# Importamos las librerías\n",
    "\n",
    "import urllib\n",
    "from bs4 import BeautifulSoup\n",
    "\n",
    "# Vamos a sacar datos en base a las participaciones\n",
    "\n",
    "participaciones = 50\n",
    "url = 'https://www.morningstar.es/es/funds/snapshot/snapshot.aspx?id=F00000Z2S5'\n",
    "\n",
    "# Tendremos que encontrar el contenido en el html y extraerlo\n",
    "html = urllib.request.urlopen(url)\n",
    "soup = BeautifulSoup(html)\n",
    "\n",
    "# Vamos a filtrar las etiquetas por la clase\n",
    "tags = soup.find_all(\"td\", class_=\"line text\")"
   ]
  },
  {
   "cell_type": "code",
   "execution_count": 14,
   "id": "b26255f7",
   "metadata": {},
   "outputs": [
    {
     "data": {
      "text/plain": [
       "[<td class=\"line text\">EUR 11,28</td>,\n",
       " <td class=\"line text\">0,21%\n",
       "                       </td>,\n",
       " <td class=\"line text\">IE00BDRK7P73</td>,\n",
       " <td class=\"line text\">USD 1733,31</td>,\n",
       " <td class=\"line text\">EUR 49,54</td>,\n",
       " <td class=\"line text\">-</td>,\n",
       " <td class=\"line text\">0,20%</td>]"
      ]
     },
     "execution_count": 14,
     "metadata": {},
     "output_type": "execute_result"
    }
   ],
   "source": [
    "tags"
   ]
  },
  {
   "cell_type": "code",
   "execution_count": 15,
   "id": "fb828b5a",
   "metadata": {},
   "outputs": [],
   "source": [
    "# Vamos a extraer este valor \n",
    "valor = tags[0]"
   ]
  },
  {
   "cell_type": "code",
   "execution_count": 16,
   "id": "f1c59fd2",
   "metadata": {},
   "outputs": [
    {
     "data": {
      "text/plain": [
       "<td class=\"line text\">EUR 11,28</td>"
      ]
     },
     "execution_count": 16,
     "metadata": {},
     "output_type": "execute_result"
    }
   ],
   "source": [
    "valor"
   ]
  },
  {
   "cell_type": "code",
   "execution_count": 20,
   "id": "4e998109",
   "metadata": {},
   "outputs": [],
   "source": [
    "valor = float(valor.contents[0].replace('EUR\\xa0','').replace(',','.'))"
   ]
  },
  {
   "cell_type": "code",
   "execution_count": 21,
   "id": "664bd0ec",
   "metadata": {},
   "outputs": [
    {
     "data": {
      "text/plain": [
       "11.28"
      ]
     },
     "execution_count": 21,
     "metadata": {},
     "output_type": "execute_result"
    }
   ],
   "source": [
    "valor"
   ]
  },
  {
   "cell_type": "code",
   "execution_count": 22,
   "id": "8d695556",
   "metadata": {},
   "outputs": [
    {
     "name": "stdout",
     "output_type": "stream",
     "text": [
      "564.0\n"
     ]
    }
   ],
   "source": [
    "# Este es el dinero que tendriamos en inversión.\n",
    "total = participaciones * valor\n",
    "print(total)"
   ]
  }
 ],
 "metadata": {
  "kernelspec": {
   "display_name": "Python 3 (ipykernel)",
   "language": "python",
   "name": "python3"
  },
  "language_info": {
   "codemirror_mode": {
    "name": "ipython",
    "version": 3
   },
   "file_extension": ".py",
   "mimetype": "text/x-python",
   "name": "python",
   "nbconvert_exporter": "python",
   "pygments_lexer": "ipython3",
   "version": "3.9.13"
  }
 },
 "nbformat": 4,
 "nbformat_minor": 5
}
