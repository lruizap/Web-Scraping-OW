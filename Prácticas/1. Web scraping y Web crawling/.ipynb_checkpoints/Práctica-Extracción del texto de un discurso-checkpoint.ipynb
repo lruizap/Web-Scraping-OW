{
 "cells": [
  {
   "cell_type": "markdown",
   "id": "26927514",
   "metadata": {},
   "source": [
    "# Extracción del texto de un discurso"
   ]
  },
  {
   "cell_type": "markdown",
   "id": "d59d2d6e",
   "metadata": {},
   "source": [
    "## Vamos a extraer un discurso de Donald Trump de una web"
   ]
  },
  {
   "cell_type": "code",
   "execution_count": 1,
   "id": "31f9aa75",
   "metadata": {},
   "outputs": [
    {
     "name": "stdout",
     "output_type": "stream",
     "text": [
      "Defaulting to user installation because normal site-packages is not writeable\n",
      "Requirement already satisfied: pandas in c:\\programdata\\anaconda3\\lib\\site-packages (1.4.4)\n",
      "Requirement already satisfied: python-dateutil>=2.8.1 in c:\\programdata\\anaconda3\\lib\\site-packages (from pandas) (2.8.2)\n",
      "Requirement already satisfied: pytz>=2020.1 in c:\\programdata\\anaconda3\\lib\\site-packages (from pandas) (2022.1)\n",
      "Requirement already satisfied: numpy>=1.18.5 in c:\\programdata\\anaconda3\\lib\\site-packages (from pandas) (1.21.5)\n",
      "Requirement already satisfied: six>=1.5 in c:\\programdata\\anaconda3\\lib\\site-packages (from python-dateutil>=2.8.1->pandas) (1.16.0)\n"
     ]
    }
   ],
   "source": [
    "# Importación de la librería pandas\n",
    "import sys\n",
    "!{sys.executable} -m pip install pandas"
   ]
  },
  {
   "cell_type": "code",
   "execution_count": 2,
   "id": "d896e6fa",
   "metadata": {},
   "outputs": [],
   "source": [
    "# Importamos las librerías necesarias para trabajar con html\n",
    "import urllib\n",
    "from bs4 import BeautifulSoup\n",
    "\n",
    "# Ponemos la url donde se encuentra el discurso\n",
    "url= 'https://elpais.com/internacional/2018/01/31/actualidad/1517387619_036241.html'\n",
    "\n",
    "# extraemos el html\n",
    "html = urllib.request.urlopen(url)\n",
    "\n",
    "# Ahora transformamos el html en un objeto Beautiful Soup\n",
    "soup = BeautifulSoup(html)\n",
    "\n",
    "# Tendremos que investigar dentro del html donde se encuentra el discurso para\n",
    "# que nuestro programa busque\n",
    "# Tenemos que extrar las etiquetas indicadas\n",
    "tags = soup('p')"
   ]
  },
  {
   "cell_type": "code",
   "execution_count": 3,
   "id": "f0dc6fb2",
   "metadata": {},
   "outputs": [
    {
     "data": {
      "text/plain": [
       "[<p class=\"\">Señor presidente de la Cámara de Representantes, señor vicepresidente, miembros del Congreso, primera dama de Estados Unidos, compatriotas estadounidenses:</p>,\n",
       " <p class=\"\">Ha transcurrido menos de un año desde que subí por primera vez a la tribuna de esta solemne cámara para hablar en nombre del pueblo estadounidense y referirme a sus preocupaciones, sus esperanzas y sus sueños. Aquella noche, nuestro Gobierno ya había tomado medidas inmediatas. Una nueva oleada de optimismo recorría el país.</p>,\n",
       " <p class=\"\">Desde entonces no ha habido día en que no hayamos seguido adelante con una visión clara y una misión justa: volver a hacer Estados Unidos grande para todos los estadounidenses.</p>,\n",
       " <p class=\"\">A lo largo de este último año, hemos realizado avances increíbles y hemos obtenido resultados extraordinarios. Hemos hecho frente a retos que preveíamos y a otros que jamás habríamos podido imaginar. Hemos compartido las más altas cotas de la victoria y el dolor de la adversidad. Hemos resistido inundaciones, incendios y tormentas. Pero en todo ello, hemos sido testigos de la belleza del alma de Estados Unidos y de su fuerza de voluntad de acero.</p>,\n",
       " <p class=\"\">Con cada prueba se han forjado nuevos héroes estadounidenses que nos recuerdan quiénes somos y nos enseñan lo que podemos ser.</p>,\n",
       " <p class=\"\">Hemos visto a los voluntarios de la \"armada cajun\" correr al rescate con sus barcas de pesca para salvar a la gente tras un devastador huracán.</p>,\n",
       " <p class=\"\">Hemos visto cómo unos desconocidos protegían a otros desconocidos de una lluvia de balas en Las Vegas.</p>,\n",
       " <p class=\"\">Hemos oídos historias de estadounidenses como el suboficial de la Guardia Costera Ashlee Leppert, presente hoy aquí en la tribuna junto a Melania. Ashlee iba a bordo de unos de los primeros helicópteros que llegaron al lugar de los hechos durante el huracán Harvey. A lo largo de 18 horas de viento y lluvia, Ashlee desafió a los cables de alta tensión y a las aguas para ayudar a salvar más de 40 vidas. Gracias, Ashlee.</p>,\n",
       " <p class=\"\">Hemos oído hablar de compatriotas como el bombero David Dahlberg. Él también nos acompaña hoy. David se enfrentó a muros de fuego para rescatar a casi 60 niños atrapados en un campamento de verano amenazado por los incendios en California.</p>,\n",
       " <p class=\"\">A todos los que aún se están recuperando en Texas, Florida, Luisiana, Puerto Rico, las Islas Vírgenes, California y otros lugares, estamos con vosotros, os queremos y saldremos adelante juntos.</p>,\n",
       " <p class=\"\">Algunas de las pruebas por las que pasamos el último año afectaron muy directamente a esta Cámara. Esta noche nos acompaña una de las personas más duras que jamás haya prestado servicio en esta casa, un tipo que recibió un balazo, estuvo a punto de morir, y que, tres meses y medio después, estaba otra vez en su puesto: la leyenda de Luisiana, el congresista Steve Scalise.</p>,\n",
       " <p class=\"\">Estamos increíblemente agradecidos por los heroicos esfuerzos de los agentes de la Policía del Capitolio, la Policía de Alexandria, así como de los médicos, las enfermeras y el personal auxiliar que salvaron su vida y la de muchos otros en esta sala.</p>,\n",
       " <p class=\"\">Tras el terrible tiroteo, todos nos unimos, no como republicanos o demócratas, sino como representantes del pueblo. Pero no basta con unirse en los momentos trágicos. Esta noche insto a todos a que dejemos de lado nuestras diferencias, busquemos puntos en común y encontremos la unidad que necesitamos para cumplir con el pueblo para cuyo servicio fuimos elegidos.</p>,\n",
       " <p class=\"\">A lo largo del último año, el mundo ha sido testigo de lo que nosotros siempre hemos sabido: que no hay pueblo en la tierra tan valiente, audaz y decidido como el estadounidense. Si hay una montaña, nosotros la escalamos; si hay una frontera, nosotros la cruzamos; si hay un desafío, lo superamos; si hay una oportunidad, la aprovechamos.</p>,\n",
       " <p class=\"\">Comencemos, pues, esta noche reconociendo que el Estado de la Unión es fuerte porque su pueblo es fuerte.</p>,\n",
       " <p class=\"\">Y juntos estamos construyendo un Estados Unidos seguro, fuerte y orgulloso.</p>,\n",
       " <p class=\"\">Desde las elecciones, hemos creado 2,4 millones de puestos de trabajo, incluidos 200.000 nuevos empleos solamente en la industria. Tras años de estancamiento de los salarios, por fin los estamos viendo subir.</p>,\n",
       " <p class=\"\">La percepción de subsidios de desempleo ha alcanzado su punto más bajo en 45 años. La tasa de paro entre los afroestadounidenses es las más baja jamás registrada, y la de los hispanoestadounidenses también ha llegado a los niveles más bajos de la historia.</p>,\n",
       " <p class=\"\">La confianza de las pequeñas empresas no tiene precedentes. La Bolsa ha batido un récord tras otro y ha incrementado su valor en ocho billones de dólares, lo cual es una excelente noticia para los planes de pensiones, las jubilaciones, las pensiones y las cuentas de ahorro para la universidad de los estadounidenses.</p>,\n",
       " <p class=\"\">Y, tal como prometí al pueblo estadounidense desde esta tribuna hace 11 meses, hemos aprobado las mayores rebajas y reformas fiscales de la historia de Estados Unidos.</p>,\n",
       " <p class=\"\">Nuestra drástica reducción de impuestos proporciona un enorme alivio a la clase media y a la pequeña empresa.</p>,\n",
       " <p class=\"\">Con el fin de rebajar los tipos fiscales a los estadounidenses que tanto trabajan, prácticamente hemos duplicado la deducción estándar a todo el mundo. En la actualidad, los primeros 24.000 dólares de ingresos de un matrimonio están totalmente libres de impuestos. También hemos duplicado la desgravación por hijos.</p>,\n",
       " <p class=\"\">Una típica familia de cuatro miembros que gane 75.000 dólares verá sus impuestos reducidos en 2.000 dólares, lo que supone rebajarlos a la mitad.</p>,\n",
       " <p class=\"\">Este mes de abril será el último que declaréis según un sistema viejo y caduco, y millones de estadounidenses dispondrán de un salario neto más alto al empezar el mes.</p>,\n",
       " <p class=\"\">Hemos eliminado un impuesto especialmente cruel que recaía en su mayor parte sobre los estadounidenses que ganan menos de 50.000 dólares al año y los obligaba a pagar multas altísimas solo porque no podían permitirse los seguros médicos impuestos por el Gobierno. Hemos derogado el núcleo central del desastroso Obamacare; el mandato individual ha dejado de existir.</p>,\n",
       " <p class=\"\">Hemos rebajado el impuesto sobre sociedades del 35% hasta el 21%, de manera que las empresas estadounidenses puedan competir y ganar frente a cualquiera en el mundo. Se calcula que solamente con estos cambios, los ingresos medios de una familia aumentarán en más de 4.000 dólares.</p>,\n",
       " <p class=\"\">Las pequeñas empresas también se han beneficiado de una considerable rebaja fiscal, y ahora pueden desgravar el 20% de los ingresos de su negocio.</p>,\n",
       " <p class=\"\">Esta noche tenemos aquí a Steve Staub y Sandy Keplinger, de Staub Manufacturing, una pequeña empresa de Ohio. Acaban de cerrar el mejor ejercicio en sus 20 años de historia. Gracias a la reforma fiscal, van a repartir ascensos, contratarán a 14 personas más y se ampliarán con el edificio de al lado.</p>,\n",
       " <p class=\"\">Uno de los empleados de Staub, Corey Adams, está también con nosotros esta noche. Corey es el típico trabajador estadounidense. Trabajó al mismo tiempo que estudiaba en el instituto, perdió el empleo en la recesión de 2008, y fue más tarde contratado por Staub, donde se formó para convertirse en soldador. Como muchos estadounidenses industriosos, Corey planea invertir el aumento de sueldo conseguido gracias a las reducciones de impuestos en su nueva casa y en la educación de sus dos hijas. Por favor, felicitemos todos a Corey.</p>,\n",
       " <p class=\"\">Desde que aprobamos las reducciones de impuestos, aproximadamente 3 millones de trabajadores han recibido primas relacionadas con ellas, miles de dólares por trabajador en muchos casos. Apple acaba de anunciar que planea invertir un total de 350.000 millones de dólares en Estados Unidos, y contratar a otros 20.000 trabajadores.</p>,\n",
       " <p class=\"\">Este es nuestro nuevo momento estadounidense. No ha habido nunca un tiempo mejor para empezar a vivir el sueño americano.</p>,\n",
       " <p class=\"\">De modo que a todos los ciudadanos que estáis viendo la televisión esta noche os digo que, independientemente de dónde hayáis estado, o de dónde vengáis, este es vuestro momento. Si trabajáis con ahínco, si creéis en vosotros mismos, si creéis en Estados Unidos, podréis soñar con cualquier cosa, podréis ser cualquier cosa, y juntos, podremos conseguirlo todo.</p>,\n",
       " <p class=\"\">Esta noche, quiero hablar sobre el tipo de futuro que vamos a tener, y sobre el tipo de nación que vamos a ser. Todos nosotros, juntos, como un equipo, un pueblo y una familia estadounidense.</p>,\n",
       " <p class=\"\">Todos compartimos la misma casa, el mismo corazón, el mismo destino y la misma gran bandera estadounidense.</p>,\n",
       " <p class=\"\">Juntos, estamos redescubriendo el estilo americano.</p>,\n",
       " <p class=\"\">En Estados Unidos sabemos que el centro de la vida estadounidense no son el Estado y la burocracia, sino la fe y la familia. Nuestro lema es \"en Dios confiamos\".</p>,\n",
       " <p class=\"\">Y rendimos homenaje a nuestra policía, a nuestro Ejército y a nuestros increíbles excombatientes como héroes que merecen nuestro total e inquebrantable apoyo.</p>,\n",
       " <p class=\"\">Esta noche está aquí Preston Sharp, un chico de 12 años de Redding, California, que se fijó en que las tumbas de los excombatientes no estaban señaladas con banderas el Día de los Excombatientes. Decidió cambiar eso e inició un movimiento que hoy en día ha colocado 40.000 banderas en las tumbas de nuestros grandes héroes. Preston: un trabajo bien hecho.</p>,\n",
       " <p class=\"\">Los jóvenes patriotas como Preston nos enseñan a todos nuestro deber cívico como estadounidenses. La veneración de Preston por aquellos que han servido a nuestra Nación nos recuerda por qué saludamos a nuestra bandera, por qué ponemos las manos en nuestros corazones en la Jura de la Bandera y por qué nos levantamos con orgullo para escuchar el himno nacional.</p>,\n",
       " <p class=\"\">Los estadounidenses aman a su país. Y se merecen un Gobierno que les muestre a cambio el mismo amor y la misma lealtad.</p>,\n",
       " <p class=\"\">Durante el último año, hemos intentado restablecer los vínculos de la confianza entre nuestros ciudadanos y su Gobierno.</p>,\n",
       " <p class=\"\">Trabajando con el Senado, estamos nombrando jueces que interpretarán la Constitución tal como está escrita, entre ellos un nuevo magistrado del Tribunal Supremo, y a más jueces de tribunales de primera instancia que ningún nuevo Gobierno en la historia de nuestro país.</p>,\n",
       " <p class=\"\">Defendemos la Segunda Enmienda y hemos adoptado medidas históricas para proteger la libertad religiosa.</p>,\n",
       " <p class=\"\">Y servimos a nuestros valientes excombatientes, dándoles, entre otras cosas, la opción de elegir a la hora de tomar decisiones relacionadas con su asistencia médica. El año pasado, el Congreso aprobó, y yo firmé, la Ley de Responsabilidad del Departamento de Asuntos de Excombatientes. Desde su aprobación, mi Gobierno ya ha despedido a más de 1.500 empleados del Departamento de Asuntos de Excombatientes que no prestaron a nuestros veteranos los cuidados que se merecen, y vamos a contratar a personas con talento que aman a nuestros excombatientes tanto como nosotros.</p>,\n",
       " <p class=\"\">No pararé hasta que nuestros excombatientes estén debidamente atendidos, que es lo que les he prometido desde el inicio de este gran viaje.</p>,\n",
       " <p class=\"\">Todos los estadounidenses merecen responsabilidad y respeto, y eso es lo que les estamos dando. Por eso esta noche, pido al Congreso que dote a todos los secretarios del Gobierno de autoridad para recompensar a los buenos trabajadores y destituir a los empleados federales que socaven la confianza de la ciudadanía o le fallen al pueblo estadounidense.</p>,\n",
       " <p class=\"\">En nuestro impulso por hacer Washington más responsable, hemos eliminado más reglamentaciones en nuestro primer año que cualquier gobierno en la historia.</p>,\n",
       " <p class=\"\">Hemos puesto fin a la guerra contra la energía estadounidense Unidos, y hemos puesto fin a la guerra contra el carbón limpio. Ahora exportamos energía al mundo.</p>,\n",
       " <p class=\"\">En Detroit, he detenido órdenes administrativas que paralizaban a los trabajadores del sector automotriz estadounidense, para que la Ciudad del Motor pueda volver a acelerar.</p>,\n",
       " <p class=\"\">Muchas empresas del automóvil están ahora construyendo y ampliando fábricas en Estados Unidos, algo que no veíamos desde hacía décadas. Chrysler está trasladando una gran fábrica de México a Michigan; Toyota y Mazda van a abrir una planta en Alabama. Pronto, se inaugurarán instalaciones por todo el país. Todas estas son noticias que los estadounidenses no están acostumbrados a oír; desde hace muchos años, las empresas y los puestos de trabajo no hacían más que dejarnos. Pero ahora están volviendo.</p>,\n",
       " <p class=\"\">A diario se producen avances interesantes.</p>,\n",
       " <p class=\"\">Para acelerar el acceso a grandes avances médicos y a fármacos genéricos asequibles, el año pasado la Administración de Alimentos y Medicamentos (FDA, por sus siglas en inglés) aprobó más fármacos nuevos y genéricos y más dispositivos médicos que nunca antes en nuestra historia.</p>,\n",
       " <p class=\"\">También creemos que los pacientes con enfermedades terminales deberían poder acceder a tratamientos experimentales con potencial para salvarles la vida.</p>,\n",
       " <p class=\"\">Los pacientes con enfermedades terminales no deberían tener que salir del país en busca de un tratamiento; quiero darles la oportunidad aquí en su país. Es hora de que el Congreso dé a estos maravillosos estadounidenses el \"derecho a probar\".</p>,\n",
       " <p class=\"\">Una de mis primeras prioridades es la de reducir el precio de los fármacos expedidos con receta médica. En muchos otros países, estos fármacos cuestan mucho menos de lo que pagamos por ellos en Estados Unidos. Por eso he ordenado a mi Gobierno que convierta en una de nuestras principales prioridades el dar solución a la injusticia que suponen los elevados precios de los medicamentos. Los precios bajarán.</p>,\n",
       " <p class=\"\">Estados Unidos ha pasado también página por fin a décadas de tratados comerciales injustos que sacrificaban nuestra prosperidad y se llevaban nuestras empresas, nuestros puestos de trabajo y la riqueza de nuestra nación.</p>,\n",
       " <p class=\"\">La era de la rendición económica ha terminado.</p>,\n",
       " <p class=\"\">De ahora en adelante, esperamos que las relaciones comerciales sean equitativas y recíprocas.</p>,\n",
       " <p class=\"\">Trabajaremos para enmendar los malos tratados comerciales y negociar otros nuevos.</p>,\n",
       " <p class=\"\">Y protegeremos a los trabajadores estadounidenses y la propiedad intelectual estadounidense mediante una firme aplicación de nuestras normas comerciales.</p>,\n",
       " <p class=\"\">Al tiempo que reconstruimos nuestras industrias, también es hora de reconstruir nuestras desmoronadas infraestructuras.</p>,\n",
       " <p class=\"\">Estados Unidos es un país de constructores. Levantamos el Empire State Building en solo 1 año. ¿No es una desgracia que ahora hagan falta 10 años para conseguir que se apruebe la construcción de una simple carretera?</p>,\n",
       " <p class=\"\">Pido a ambos partidos que se unan para darnos las infraestructuras seguras, rápidas, fiables y modernas que nuestra economía necesita y nuestros ciudadanos merecen.</p>,\n",
       " <p class=\"\">Esta noche, hago un llamamiento al Congreso para que elabore una ley que destine al menos 1,5 billones de dólares para invertir en las nuevas infraestructuras que necesitamos.</p>,\n",
       " <p class=\"\">Cada dólar federal debería ir respaldado por una alianza con las administraciones estatales y locales y, cuando proceda, recurrir a la inversión del sector privado, para solucionar de manera permanente el déficit de infraestructuras.</p>,\n",
       " <p class=\"\">Cualquier ley deberá también racionalizar el sistema de aprobación y concesión de licencias, reduciéndolo a un máximo de dos años, quizá incluso uno.</p>,\n",
       " <p class=\"\">Juntos, podemos recuperar nuestra herencia como constructores. Construiremos flamantes carreteras, puentes, autopistas, vías férreas y vías fluviales por toda nuestra tierra. Y lo haremos con corazón estadounidense, con manos estadounidenses y con agallas estadounidenses.</p>,\n",
       " <p class=\"\">Queremos que todos los estadounidenses conozcan la dignidad de una dura jornada de trabajo. Queremos que todos los niños estén seguros en su casa por la noche. Y queremos que todos los ciudadanos estén orgullosos de esta tierra a la que amamos.</p>,\n",
       " <p class=\"\">Podemos elevar a nuestros ciudadanos de la asistencia social al trabajo, de la dependencia a la independencia, y de la pobreza a la prosperidad.</p>,\n",
       " <p class=\"\">A medida que las rebajas fiscales crean nuevos puestos de trabajo, invirtamos en desarrollo y formación de los trabajadores. Abramos grandes escuelas de formación profesional para que nuestros futuros trabajadores puedan aprender un oficio y desarrollar su todo su potencial. Y apoyemos a las familias trabajadoras potenciando los permisos remunerados para el cuidado de un familiar.</p>,\n",
       " <p class=\"\">Conforme Estados Unidos recupera su fuerza, esta oportunidad debe extenderse a todos los ciudadanos. Por eso este año nos embarcaremos en la reforma de nuestras cárceles, para dar una segunda oportunidad a los expresidiarios que hayan cumplido su condena.</p>,\n",
       " <p class=\"\">Las comunidades en apuros, en especial las comunidades de inmigrantes, recibirán también ayuda mediante políticas migratorias centradas en lo que resulte más beneficioso para los trabajadores y las familias estadounidenses.</p>,\n",
       " <p class=\"\">Durante décadas, la apertura de fronteras ha permitido que drogas y bandas entren en masa en nuestras comunidades más vulnerables. Han permitido que millones de trabajadores con bajos salarios compitan por puestos de trabajo y sueldos con los estadounidenses más pobres. Y lo más trágico es que han causado la pérdida de muchas vidas inocentes.</p>,\n",
       " <p class=\"\">Esta noche están aquí dos padres y dos madres: Evelyn Rodríguez, Freddy Cuevas, Elizabeth Alvarado y Robert Mickens. Sus dos hijas adolescentes –Kayla Cuevas y Nisa Mickens– eran amigas íntimas en Long Island. Pero en septiembre de 2016, en la víspera del 16º cumpleaños de Nisa, ninguna de las dos regresó a casa. Estas dos preciosas niñas fueron brutalmente asesinadas cuando caminaban juntas por su ciudad. Seis miembros de la salvaje banda MS-13 han sido acusados del asesinato de Kayla y Nisa. Muchos de estos miembros de bandas aprovecharon evidentes lagunas legales para entrar en nuestro país como menores extranjeros no acompañados, y acabaron en el instituto de Kayla y Nisa.</p>,\n",
       " <p class=\"\">Evelyn, Elizabeth, Freddy y Robert: hoy, en esta cámara, todos rezamos por vosotros. Todos en Estados Unidos lloramos por vosotros. Y 320 millones de corazones se rompen por vosotros. No logramos imaginar la profundidad de vuestra pena, pero podemos asegurarnos de que otras familias nunca tengan que soportar este dolor.</p>,\n",
       " <p class=\"\">Esta noche, pido al Congreso que elimine por fin esas mortales lagunas legales que han permitido a los miembros de la MS-13 y a otros criminales irrumpir en nuestro país. Hemos propuesto nueva legislación que enmendará nuestras leyes de inmigración, y apoyará a nuestros agentes del Servicio de Inmigración y Aduanas (ICE por sus siglas en inglés) y de la Patrulla Fronteriza, para que esto no pueda volver a ocurrir.</p>,\n",
       " <p class=\"\">Estados Unidos es una nación compasiva. Estamos orgullosos de hacer más que cualquier otro país para ayudar a los necesitados, a los que están en apuros, a los desfavorecidos de todo el mundo. Pero como presidente de Estados Unidos, mi mayor lealtad, mi mayor compasión, y mi constante preocupación van dirigidos a los niños estadounidenses, a los trabajadores estadounidenses que pasan apuros, y a las comunidades olvidadas de Estados Unidos. Quiero que nuestros jóvenes crezcan y logren cosas grandes. Quiero que nuestros pobres tengan la oportunidad de medrar.</p>,\n",
       " <p class=\"\">Por eso, esta noche, tiendo una mano abierta para colaborar con los miembros de ambos partidos –demócratas y republicanos– en la protección de nuestros ciudadanos de cualquier procedencia, color, religión y credo. Mi deber, y el sagrado deber de toda autoridad elegida para esta cámara, es defender a los estadounidenses, y proteger su seguridad, sus familias, sus comunidades, y su derecho al sueño americano. Porque también los estadounidenses son soñadores.</p>,\n",
       " <p class=\"\">Esta noche está aquí un líder en el esfuerzo de defender a nuestro país: el agente especial de Investigaciones de Seguridad Interior Celestino Martínez, conocido como CJ. CJ sirvió 15 años en las Fuerzas Aéreas para después convertirse en agente del ICE, donde ha pasado los últimos 15 años luchando contra la violencia de las bandas y sacando a peligrosos criminales de nuestras calles. Llegó un momento en el que los jefes de la MS-13 ordenaron asesinarlo. Pero él no cedió a las amenazas ni al miedo. El pasado mayo, detuvo a casi 400 delincuentes, entre ellos, más de 220 miembros de la MS-13.</p>,\n",
       " <p class=\"\">Gran trabajo, CJ. Ahora, hagamos que el Congreso te mande refuerzos.</p>,\n",
       " <p class=\"\">En las próximas semanas, la Cámara de Representantes y el Senado votarán un paquete de reforma de las leyes de inmigración.</p>,\n",
       " <p class=\"\">En los últimos meses, mi Gobierno se ha reunido extensamente con demócratas y republicanos para elaborar una reforma de las leyes de inmigración en la que participen ambos partidos. Basándonos en estos debates, presentamos al Congreso una propuesta detallada que ambos partidos deberían apoyar, por tratarse de un acuerdo equitativo, un acuerdo en el que nadie obtiene todo lo que quiere, pero en el que nuestro país consigue las reformas fundamentales que necesita.</p>,\n",
       " <p class=\"\">Estos son los cuatro pilares de nuestro plan:</p>,\n",
       " <p class=\"\">El primer pilar de nuestro marco ofrece generosamente una senda para la obtención de la ciudadanía a 1,8 millones de inmigrantes ilegales traídos aquí por sus padres cuando eran muy jóvenes; eso abarca a casi el triple de personas que el anterior Gobierno. Con nuestro plan, los que cumplan los requisitos de educación y trabajo, y muestren un buen carácter moral, podrán convertirse en ciudadanos estadounidense de pleno derecho.</p>,\n",
       " <p class=\"\">El segundo pilar asegura por completo la frontera. Eso significa construir un muro en la frontera sur, y significa contratar a más héroes como CJ para mantener la seguridad de nuestras comunidades. Y lo más crucial, nuestro plan elimina las lagunas legales de las que se aprovecham los criminales y los terroristas para entrar en nuestro país, y pone fin a la peligrosa práctica de \"apresar y soltar\".</p>,\n",
       " <p class=\"\">El tercer pilar pone fin a la lotería de visados, un programa que entrega aleatoriamente tarjetas verdes sin tener en cuenta las aptitudes, el mérito o la seguridad de nuestra gente. Es hora de empezar a establecer un sistema de inmigración basado en el mérito, que admita a personas preparadas, dispuestas a trabajar, que hagan una aportación a nuestra sociedad, y que amen y respeten a nuestro país.</p>,\n",
       " <p class=\"\">El cuarto y último pilar protege la familia nuclear poniendo fin a la inmigración en cadena. Con el actual sistema quebrado, un solo inmigrante puede traer una cantidad ilimitada de parientes lejanos. En nuestro plan, nos centramos en la familia inmediata, al limitar los patrocinios a cónyuges e hijos menores de edad. Esta reforma vital no solo es necesaria para nuestra economía sino también para nuestra seguridad y nuestro futuro.</p>,\n",
       " <p class=\"\">En las últimas semanas, la lotería de visados y la inmigración en cadena han posibilitado dos atentados terroristas en Nueva York. En la era del terrorismo, estos programas plantean riesgos que ya no podemos permitirnos.</p>,\n",
       " <p class=\"\">Es hora de reformar estas normas migratorias desfasadas e introducir por fin nuestro sistema de inmigración en el siglo XXI.</p>,\n",
       " <p class=\"\">Estos cuatro pilares representan un acuerdo intermedio, que creará un sistema de inmigración seguro, moderno y legítimo.</p>,\n",
       " <p class=\"\">Washington lleva más de 30 años intentando resolver este problema sin lograrlo. Este Congreso puede ser el que por fin lo haga realidad.</p>,\n",
       " <p class=\"\">Y lo más importante, estos cuatro pilares darán lugar a una legislación que cumpla mi promesa inquebrantable de solo firmar una ley que ponga por delante a Estados Unidos. De modo que unámonos, dejemos a un lado las ideologías políticas, y cumplamos por fin con nuestra tarea.</p>,\n",
       " <p class=\"\">Estas reformas apoyarán también nuestra respuesta a la terrible crisis de la adicción a opioides y drogas.</p>,\n",
       " <p class=\"\">En 2016, perdimos a 64.000 estadounidenses por sobredosis: 174 muertes diarias; siete cada hora. Debemos ser mucho más duros con los narcos y los pequeños traficantes si queremos frenar esta plaga.</p>,\n",
       " <p class=\"\">Mi Gobierno está comprometido a luchar contra la epidemia de las drogas y a ayudar a que reciban tratamiento los que lo necesitan. La lucha será larga y difícil, pero, como siempre hacen los estadounidenses, triunfaremos.</p>,\n",
       " <p class=\"\">Como hemos visto esta noche, los retos más difíciles hacen que Estados Unidos dé lo mejor de sí.</p>,\n",
       " <p class=\"\">La historia de la familia Holets, de Nuevo México, refleja vívidamente esta verdad. Ryan Holets tiene 27 años y es un agente del Departamento de Policía de Albuquerque. Está aquí esta noche con su mujer, Rebecca. El año pasado, Ryan estaba de servicio cuando vio a una mujer sin hogar embarazada preparándose para inyectarse heroína. Cuando Ryan le dijo que le iba a hacer daño a su hijo no nato, ella empezó a llorar. Le dijo que no sabía a quién acudir, pero que necesitaba desesperadamente un hogar seguro para su bebé.</p>,\n",
       " <p class=\"\">Ryan dice que, en aquel momento, sintió que Dios le hablaba: \"Lo harás, porque puedes\". Sacó una foto de su mujer y de sus cuatro hijos. Luego, volvió a casa para decírselo a su mujer, Rebecca. En un instante, ellas accedió a adoptarla. Los Holets llamaron a su nueva hija Hope [Esperanza].</p>,\n",
       " <p class=\"\">Ryan y Rebecca: simbolizáis la bondad de nuestra Nación. Gracias y enhorabuena.</p>,\n",
       " <p class=\"\">A medida que recuperamos la fuerza y la confianza de EE UU en casa, también recuperamos nuestra fuerza y nuestra posición en el extranjero.</p>,\n",
       " <p class=\"\">En todo el mundo, nos enfrentamos a regímenes díscolos, a grupos terroristas y a rivales como China y Rusia que desafían nuestros intereses, nuestra economía y nuestros valores. Sabemos que, a la hora de hacer frente a estos peligros, la debilidad es la senda más segura hacia el conflicto, y una fuerza sin par es el medio más seguro para defendernos.</p>,\n",
       " <p class=\"\">Por esta razón, le pido al Congreso que ponga fin al peligroso secuestro de la defensa y que financie totalmente a nuestras grandes Fuerzas Armadas.</p>,\n",
       " <p class=\"\">Como parte de nuestra defensa, debemos modernizar y reconstruir nuestro arsenal nuclear, que, con suerte, nunca tendremos que utilizar, pero que deberá ser tan fuerte y poderoso que disuada cualquier acto de agresión. Quizás algún día, en el futuro, habrá un momento mágico en el que los países del mundo se pongan de acuerdo para eliminar sus armas nucleares. Por desgracia, todavía no hemos llegado a ese punto.</p>,\n",
       " <p class=\"\">El año pasado, también prometí que trabajaríamos con nuestros aliados para borrar al EI de la faz de la Tierra. Un año después, estoy orgulloso de informar de que la coalición para derrotar al EI ha liberado casi el 100% del territorio que antes ocupaban estos asesinos en Irak y en Siria. Pero queda mucho trabajo por hacer. Proseguiremos nuestra lucha hasta que el EI sea derrotado.</p>,\n",
       " <p class=\"\">El sargento del Ejército Justin Peck está aquí esta noche. El pasado mes de noviembre, Justin y su compañero, el suboficial de la Marina Kenton Stacy, estaban cerca de Raqa en una misión para limpiar los edificios que el EI había llenado de explosivos y permitir que los civiles pudiesen volver a la ciudad.</p>,\n",
       " <p class=\"\">Mientras limpiaba el segundo piso de un hospital vital, Kenton Stacy resultó gravemente herido por una explosión. Justin entró en el edificio repleto de trampas explosivas y encontró a Kenton en mal estado. Presionó la herida y le insertó un tubo para volver a abrir las vías respiratorias. Más tarde, le practicó una RCP durante 20 minutos seguidos durante el transporte terrestre y mantuvo la respiración artificial a lo largo de las 2 horas de cirugía de emergencia.</p>,\n",
       " <p class=\"\">Kenton Stacy habría muerto de no ser por el amor abnegado de Justin por un compañero militar. Esta noche, Kenton se recupera en Tejas. Raqa ha sido liberada. Y Justin lleva puesta su nueva Estrella de Bronce con la \"V\" de \"Valor\". Suboficial de la Marina Peck: todo Estados Unidos le aclama.</p>,\n",
       " <p class=\"\">Los terroristas que hacen cosas como colocar bombas en hospitales civiles son malvados. Cuando es posible, los aniquilamos. Cuando sea necesario, debemos ser capaces de detenerlos y de interrogarlos. Pero debemos ser claros: los terroristas no son meramente criminales. Son unos combatientes enemigos ilegales. Y cuando los capturamos en el extranjero, deberían ser tratados como los terroristas que son.</p>,\n",
       " <p class=\"\">En el pasado, hemos liberado estúpidamente a centenares de terroristas peligrosos, solo para encontrarnos con ellos otra vez en el campo de batalla, entre ellos el líder del EI, Al Baghdadi.</p>,\n",
       " <p class=\"\">Por eso, hoy, he cumplido otra promesa. Acabo de firmar una orden dando instrucciones al Secretario Mattis para que revise nuestra política de detención y para mantener abiertas nuestras instalaciones de detención en la Bahía de Guantánamo.</p>,\n",
       " <p class=\"\">También voy a pedirle al Congreso que se asegure de que, en la lucha contra el EI y Al Qaeda, sigamos teniendo todo el poder necesario para detener a los terroristas, allí donde los localicemos.</p>,\n",
       " <p class=\"\">Nuestros combatientes en Afganistán también tienen nuevas normas de intervención. Nuestras Fuerzas Armadas, junto con sus heroicos socios afganos, ya no se ven perjudicadas por calendarios artificiales, y ya no diremos nuestros planes a nuestros enemigos.</p>,\n",
       " <p class=\"\">El mes pasado, también adopté una medida apoyada unánimemente por el Senado solo unos meses antes: reconocí a Jerusalén como capital de Israel.</p>,\n",
       " <p class=\"\">Al poco tiempo, docenas de países votaron en la Asamblea General de Naciones Unidas en contra del derecho soberano de Estados Unidos a realizar este reconocimiento. Los contribuyentes estadounidenses envían a esos mismos países miles de millones de dólares en ayudas cada año.</p>,\n",
       " <p class=\"\">Esa es la razón por la que, esta noche, le pido al Congreso que apruebe la legislación para ayudar a garantizar que los dólares de la ayuda exterior estadounidense siempre sirvan a los intereses estadounidenses y que solo se destinen a los amigos de Estados Unidos.</p>,\n",
       " <p class=\"\">A medida que reforzamos los lazos de amistad en todo el mundo, también arrojamos claridad sobre nuestros adversarios.</p>,\n",
       " <p class=\"\">Cuando los ciudadanos de Irán se alzaron contra los crímenes de su corrupta dictadura, no me quedé callado. Estados Unidos apoya a los iraníes en su valiente lucha por la libertad.</p>,\n",
       " <p class=\"\">Voy a pedirle al Congreso que aborde los fallos fundamentales en el terrible acuerdo nuclear con Irán.</p>,\n",
       " <p class=\"\">Mi Gobierno también ha impuesto duras sanciones a las dictaduras comunistas y socialistas en Cuba y en Venezuela.</p>,\n",
       " <p class=\"\">Pero ningún régimen ha oprimido con más fuerza y más brutalidad a sus propios ciudadanos que la cruel dictadura de Corea del Norte.</p>,\n",
       " <p class=\"\">La temeraria carrera de Corea del Norte por conseguir misiles nucleares podría ser muy pronto una amenaza para nuestra patria.</p>,\n",
       " <p class=\"\">Estamos llevando a cabo una campaña de máxima presión para impedir que eso suceda.</p>,\n",
       " <p class=\"\">Las experiencias del pasado nos han enseñado que la complacencia y las concesiones solo invitan a la agresión y a la provocación. No repetiré los errores de pasados Gobiernos que nos han llevado a esta peligrosa posición.</p>,\n",
       " <p class=\"\">Solo tenemos que ver el depravado carácter del régimen norcoreano para entender la naturaleza de la amenaza nuclear que podría suponer para Estados Unidos y nuestros aliados.</p>,\n",
       " <p class=\"\">Otto Warmbier era un estudiante trabajador de la Universidad de Virginia. De camino para estudiar en el extranjero, en Asia, Otto hizo un viaje por Corea del Norte. Al terminarlo, este maravilloso joven fue detenido y acusado de crímenes contra el Estado. Después de un vergonzoso juicio, la dictadura condenó a Otto a 15 años de trabajos forzosos, antes de devolverlo a Estados Unidos el pasado mes de junio, horriblemente herido y al borde de la muerte. Falleció solo unos días después de su regreso.</p>,\n",
       " <p class=\"\">Los padres de Otto, Fred y Cindy Warmbier, están aquí con nosotros esta noche, junto con el hermano y la hermana de Otto, Austin y Greta. Sois unos poderosos testigos de una amenaza que acecha a nuestro mundo, y vuestra fuerza nos inspira a todos. Esta noche, prometemos honrar la memoria de Otto con la resolución estadounidense.</p>,\n",
       " <p class=\"\">Por último, nos acompaña un testigo más de la siniestra naturaleza de este régimen. Su nombre es Ji Seong-ho.</p>,\n",
       " <p class=\"\">En 1996, Seong-ho era un chico hambriento en Corea del Norte. Un día, intentó robar carbón de un vagón de ferrocarril para cambiarlo por un poco de comida. Mientras lo hacía, se desmayó en las vías del tren, agotado por el hambre. Se despertó cuando un tren le pasó por encima de sus extremidades. Posteriormente, sufrió múltiples amputaciones sin tomar nada para aliviar el dolor. Su hermano y su hermana le dieron los escasos alimentos que tenían para que se recuperase, y mientras, ellos tuvieron que comer tierra, lo que atrofió permanentemente su propio crecimiento. Más tarde, fue torturado por las autoridades norcoreanas después de volver de una breve visita a China. Sus torturadores querían saber si había conocido a algún cristiano. Sí lo había conocido; y decidió ser libre.</p>,\n",
       " <p class=\"\">Seong-ho recorrió miles de kilómetros con sus muletas a lo largo de China y del sudeste de Asia hasta la libertad. La mayor parte de su familia le siguió. Su padre fue detenido cuando intentaba escapar y fue torturado hasta la muerte.</p>,\n",
       " <p class=\"\">Actualmente Seong-ho vive en Seúl, donde se dedica a rescatar a otros desertores, y difunde en Corea del Norte lo que más teme el régimen: la verdad.</p>,\n",
       " <p class=\"\">Ahora tiene una pierna nueva. Pero, Seong-ho, entiendo que sigues manteniendo esas muletas para recordar lo lejos que has llegado. Tu gran sacrificio es una inspiración para todos nosotros.</p>,\n",
       " <p class=\"\">La historia de Seong-ho es un testimonio del anhelo de todo ser humano de vivir en libertad.</p>,\n",
       " <p class=\"\">Y fue ese mismo anhelo de libertad el que hace casi 250 años dio nacimiento a un lugar especial llamado Estados Unidos. Era un pequeño grupo de colonias atrapadas entre un gran océano y un vasto territorio salvaje. Pero fue el hogar de un pueblo increíble con una idea revolucionaria: que se podía gobernar a sí mismo. Que podía trazar su propio destino. Y que, juntos, podían iluminar al mundo.</p>,\n",
       " <p class=\"\">En eso ha consistido siempre nuestro país. Eso es lo que los estadounidenses siempre han representado, lo que siempre se han esforzado por conseguir y lo que siempre han hecho.</p>,\n",
       " <p class=\"\">En lo alto de la cúpula del Capitolio se encuentra la Estatua de la Libertad. Se yergue alta y digna entre los monumentos a nuestros antepasados que lucharon, vivieron y murieron para protegerla.</p>,\n",
       " <p class=\"\">Monumentos a Washington y a Jefferson, a Lincoln y a King. Monumentos conmemorativos de los héroes de Yorktown y Saratoga, de los jóvenes estadounidenses que derramaron su sangre en las costas de Normandía y en los campos de otros lugares. Y otros, que cayeron en las aguas del Pacífico y en los cielos de Asia.</p>,\n",
       " <p class=\"\">Y la libertad se yergue sobre un monumento más: este. Este Capitolio. Este monumento viviente al pueblo estadounidense.</p>,\n",
       " <p class=\"\">Un pueblo cuyos héroes no solo viven en el pasado, sino a nuestro alrededor, defendiendo la esperanza, el orgullo y el estilo de vida estadounidense.</p>,\n",
       " <p class=\"\">Trabajan en todos los oficios. Se sacrifican para sacar adelante a una familia. Cuidan de nuestros hijos en casa. Defienden nuestra bandera en el extranjero. Son madres fuertes y niños valientes. Son bomberos, agentes de policía, guardias de fronteras, médicos y marines.</p>,\n",
       " <p class=\"\">Pero, por encima de todo, son estadounidenses. Y este Capitolio, esta ciudad y esta Nación, les pertenecen.</p>,\n",
       " <p class=\"\">Nuestra tarea es respetarlos, escucharlos, servirlos, protegerlos y ser siempre dignos de ellos.</p>,\n",
       " <p class=\"\">Los estadounidenses llenan el mundo de arte y de música. Superan los límites de la ciencia y del descubrimiento. Y siempre nos recuerdan lo que nunca deberíamos olvidar: el pueblo soñó este país, el pueblo construyó este país y es el pueblo el que va a hacer que EE UU sea grande otra vez.</p>,\n",
       " <p class=\"\">Mientras nos sintamos orgullosos de quiénes somos y por lo que luchamos, no hay nada que no podamos lograr.</p>,\n",
       " <p class=\"\">Mientras tengamos confianza en nuestros valores, fe en nuestros ciudadanos y seguridad en nuestro Dios, no fracasaremos.</p>,\n",
       " <p class=\"\">Nuestras familias saldrán adelante.</p>,\n",
       " <p class=\"\">Nuestro pueblo prosperará.</p>,\n",
       " <p class=\"\">Y nuestra nación siempre será segura, fuerte, orgullosa, poderosa y libre.</p>,\n",
       " <p class=\"\">Gracias, y que Dios bendiga a América.</p>,\n",
       " <p class=\"\">Traducción de New Clips</p>,\n",
       " <p><a data-link-am=\"https://elpais.com/subscriptions/#/sign-in?prod=SUSDIGAM&amp;o=popup_paywallam&amp;prm=suscrip_contadorpopup_ep_el-pais-america&amp;backURL=https%3A%2F%2Felpais.com%2Finternacional%2F2018%2F01%2F31%2Factualidad%2F1517387619_036241.html\" data-link-ar=\"https://elpais.com/subscriptions/#/sign-in?prod=SUSDIGAR&amp;o=popup_paywall&amp;prm=suscrip_contadorpopup_ep&amp;backURL=https%3A%2F%2Felpais.com%2Finternacional%2F2018%2F01%2F31%2Factualidad%2F1517387619_036241.html\" data-link-ch=\"https://elpais.com/subscriptions/#/sign-in?prod=SUSDIGCHILE&amp;o=popup_paywall&amp;prm=suscrip_contadorpopup_ep&amp;backURL=https%3A%2F%2Felpais.com%2Finternacional%2F2018%2F01%2F31%2Factualidad%2F1517387619_036241.html\" data-link-co=\"https://elpais.com/subscriptions/#/sign-in?prod=SUSDIGLB&amp;o=popup_paywall&amp;prm=suscrip_contadorpopup_ep&amp;backURL=https%3A%2F%2Felpais.com%2Finternacional%2F2018%2F01%2F31%2Factualidad%2F1517387619_036241.html\" data-link-mx=\"https://elpais.com/subscriptions/#/sign-in?prod=SUSDIGMX&amp;o=popup_paywallmx&amp;prm=suscrip_contadorpopup_ep_el-pais-mexico&amp;backURL=https%3A%2F%2Felpais.com%2Finternacional%2F2018%2F01%2F31%2Factualidad%2F1517387619_036241.html\" href=\"https://elpais.com/suscripciones/#/sign-in#?prod=SUSDIG&amp;o=popup_regwall&amp;prm=signwall_contadorpopup_landing_el-pais&amp;backURL=https%3A%2F%2Felpais.com%2Finternacional%2F2018%2F01%2F31%2Factualidad%2F1517387619_036241.html\" title=\"O suscríbete para leer sin límites\">O suscríbete para leer sin límites</a></p>,\n",
       " <p>Suscríbete y lee sin límites</p>]"
      ]
     },
     "execution_count": 3,
     "metadata": {},
     "output_type": "execute_result"
    }
   ],
   "source": [
    "tags"
   ]
  },
  {
   "cell_type": "code",
   "execution_count": 10,
   "id": "a97f06db",
   "metadata": {},
   "outputs": [
    {
     "ename": "TypeError",
     "evalue": "can only concatenate str (not \"list\") to str",
     "output_type": "error",
     "traceback": [
      "\u001b[1;31m---------------------------------------------------------------------------\u001b[0m",
      "\u001b[1;31mTypeError\u001b[0m                                 Traceback (most recent call last)",
      "\u001b[1;32m~\\AppData\\Local\\Temp\\ipykernel_3392\\611218757.py\u001b[0m in \u001b[0;36m<module>\u001b[1;34m\u001b[0m\n\u001b[0;32m      7\u001b[0m     \u001b[1;32mif\u001b[0m\u001b[1;33m(\u001b[0m\u001b[0mlen\u001b[0m\u001b[1;33m(\u001b[0m\u001b[0mtag\u001b[0m\u001b[1;33m.\u001b[0m\u001b[0mattrs\u001b[0m\u001b[1;33m)\u001b[0m\u001b[1;33m)\u001b[0m\u001b[1;33m==\u001b[0m\u001b[1;36m0\u001b[0m\u001b[1;33m:\u001b[0m\u001b[1;33m\u001b[0m\u001b[1;33m\u001b[0m\u001b[0m\n\u001b[0;32m      8\u001b[0m         \u001b[0ma\u001b[0m \u001b[1;33m=\u001b[0m \u001b[0mtag\u001b[0m\u001b[1;33m.\u001b[0m\u001b[0mcontents\u001b[0m\u001b[1;33m\u001b[0m\u001b[1;33m\u001b[0m\u001b[0m\n\u001b[1;32m----> 9\u001b[1;33m         \u001b[0mdiscurso\u001b[0m \u001b[1;33m=\u001b[0m \u001b[0mdiscurso\u001b[0m \u001b[1;33m+\u001b[0m \u001b[0ma\u001b[0m\u001b[1;33m\u001b[0m\u001b[1;33m\u001b[0m\u001b[0m\n\u001b[0m\u001b[0;32m     10\u001b[0m \u001b[1;33m\u001b[0m\u001b[0m\n\u001b[0;32m     11\u001b[0m \u001b[0mprint\u001b[0m\u001b[1;33m(\u001b[0m\u001b[0mdiscurso\u001b[0m\u001b[1;33m)\u001b[0m\u001b[1;33m\u001b[0m\u001b[1;33m\u001b[0m\u001b[0m\n",
      "\u001b[1;31mTypeError\u001b[0m: can only concatenate str (not \"list\") to str"
     ]
    }
   ],
   "source": [
    "# Ahora recorreremos las etiquetas para añadirla a una etiqueta denominada discurso\n",
    "\n",
    "discurso = ''\n",
    "\n",
    "for tag in tags:\n",
    "    # Si no tiene atributos lo añade\n",
    "    if(len(tag.attrs))==0:\n",
    "        a = tag.contents[0]\n",
    "        discurso = discurso + a\n",
    "\n",
    "print(discurso)"
   ]
  },
  {
   "cell_type": "code",
   "execution_count": 7,
   "id": "f43d1e54",
   "metadata": {},
   "outputs": [
    {
     "data": {
      "text/plain": [
       "'Señor presidente de la Cámara de Representantes, señor vicepresidente, miembros del Congreso, primera dama de Estados Unidos, compatriotas estadounidenses:'"
      ]
     },
     "execution_count": 7,
     "metadata": {},
     "output_type": "execute_result"
    }
   ],
   "source": [
    "tags[0].contents[0]"
   ]
  },
  {
   "cell_type": "code",
   "execution_count": null,
   "id": "753a32ed",
   "metadata": {},
   "outputs": [],
   "source": []
  }
 ],
 "metadata": {
  "kernelspec": {
   "display_name": "Python 3 (ipykernel)",
   "language": "python",
   "name": "python3"
  },
  "language_info": {
   "codemirror_mode": {
    "name": "ipython",
    "version": 3
   },
   "file_extension": ".py",
   "mimetype": "text/x-python",
   "name": "python",
   "nbconvert_exporter": "python",
   "pygments_lexer": "ipython3",
   "version": "3.9.13"
  }
 },
 "nbformat": 4,
 "nbformat_minor": 5
}
