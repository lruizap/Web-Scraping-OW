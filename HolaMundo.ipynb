{
 "cells": [
  {
   "cell_type": "code",
   "execution_count": 1,
   "id": "0fe59cbc",
   "metadata": {},
   "outputs": [
    {
     "name": "stdout",
     "output_type": "stream",
     "text": [
      "Hola Mundo\n"
     ]
    }
   ],
   "source": [
    "print(\"Hola Mundo\")"
   ]
  },
  {
   "cell_type": "code",
   "execution_count": 2,
   "id": "ddbc3ddb",
   "metadata": {},
   "outputs": [],
   "source": [
    "# Con shift intro, ejecuta y crea nueva celda\n",
    "# Con control intro, solo ejecuta\n",
    "# Pulsando fuera ce la delda y pulsamos h, nos aparecerán los atajos de teclado"
   ]
  },
  {
   "cell_type": "markdown",
   "id": "30bf0df1",
   "metadata": {},
   "source": [
    "Esto está escrito en markdown, para documentar"
   ]
  },
  {
   "cell_type": "markdown",
   "id": "df95c7e1",
   "metadata": {},
   "source": [
    "# Introducción a Python"
   ]
  },
  {
   "cell_type": "markdown",
   "id": "503bb4f3",
   "metadata": {},
   "source": [
    "## Expresiones booleanas"
   ]
  },
  {
   "cell_type": "markdown",
   "id": "5306f9c9",
   "metadata": {},
   "source": [
    "Pueden ser verdaderas (`True`) o falsas (`False`) y existen los operadores de comparación:\n",
    "\n",
    "- igual: `==` ó `is`\n",
    "- distinto de: `!=` ó `is not`\n",
    "- mayor: `>`\n",
    "- menor: `<`\n",
    "- mayor o igual: `>=`\n",
    "- menor o igual `<=`"
   ]
  },
  {
   "cell_type": "code",
   "execution_count": 3,
   "id": "b012105c",
   "metadata": {},
   "outputs": [
    {
     "name": "stdout",
     "output_type": "stream",
     "text": [
      "True\n",
      "False\n"
     ]
    }
   ],
   "source": [
    "print(5 == 5)\n",
    "print(5 != 5)"
   ]
  },
  {
   "cell_type": "code",
   "execution_count": 4,
   "id": "410f38db",
   "metadata": {},
   "outputs": [],
   "source": [
    "x = 10"
   ]
  },
  {
   "cell_type": "code",
   "execution_count": 5,
   "id": "0adcfffd",
   "metadata": {},
   "outputs": [
    {
     "name": "stdout",
     "output_type": "stream",
     "text": [
      "False\n",
      "True\n"
     ]
    }
   ],
   "source": [
    "print(x > 0 and x < 10)\n",
    "print(x > 0 and not x < 10)"
   ]
  },
  {
   "cell_type": "markdown",
   "id": "5a6e1c76",
   "metadata": {},
   "source": [
    "## If, Elif"
   ]
  },
  {
   "cell_type": "markdown",
   "id": "454f6c0b",
   "metadata": {},
   "source": [
    "La sentencia if finaliza con dos puntos y si el bloque debe estar indentado"
   ]
  },
  {
   "cell_type": "code",
   "execution_count": 6,
   "id": "984d3ffd",
   "metadata": {
    "scrolled": true
   },
   "outputs": [
    {
     "name": "stdout",
     "output_type": "stream",
     "text": [
      "Matrícula\n",
      "Eres un máquina\n"
     ]
    }
   ],
   "source": [
    "if x >= 5 and x < 10:\n",
    "    print('aprobado')\n",
    "elif x == 10:\n",
    "    print('Matrícula')\n",
    "    print('Eres un máquina')\n",
    "else: print('SUSPENSO')"
   ]
  },
  {
   "cell_type": "code",
   "execution_count": null,
   "id": "e0d53477",
   "metadata": {},
   "outputs": [],
   "source": []
  }
 ],
 "metadata": {
  "kernelspec": {
   "display_name": "Python 3 (ipykernel)",
   "language": "python",
   "name": "python3"
  },
  "language_info": {
   "codemirror_mode": {
    "name": "ipython",
    "version": 3
   },
   "file_extension": ".py",
   "mimetype": "text/x-python",
   "name": "python",
   "nbconvert_exporter": "python",
   "pygments_lexer": "ipython3",
   "version": "3.9.13"
  }
 },
 "nbformat": 4,
 "nbformat_minor": 5
}
